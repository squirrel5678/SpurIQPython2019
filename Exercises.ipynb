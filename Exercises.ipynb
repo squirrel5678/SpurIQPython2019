{
 "cells": [
  {
   "cell_type": "markdown",
   "metadata": {},
   "source": [
    "# These are my Python Exercises"
   ]
  },
  {
   "cell_type": "code",
   "execution_count": 1,
   "metadata": {},
   "outputs": [
    {
     "name": "stdout",
     "output_type": "stream",
     "text": [
      "Hello World\n"
     ]
    }
   ],
   "source": [
    "print(\"Hello World\")"
   ]
  },
  {
   "cell_type": "code",
   "execution_count": 6,
   "metadata": {},
   "outputs": [
    {
     "name": "stdout",
     "output_type": "stream",
     "text": [
      "80\n",
      "80\n",
      "80\n",
      "80\n"
     ]
    }
   ],
   "source": [
    "x = 20\n",
    "y = 4\n",
    "print(x * y)\n",
    "d = 20\n",
    "s = 4\n",
    "d *= s\n",
    "print(d)\n",
    "print(20*4)\n",
    "w = 19\n",
    "e = 2\n",
    "print((w + 1)*(e + 2))"
   ]
  },
  {
   "cell_type": "code",
   "execution_count": 12,
   "metadata": {},
   "outputs": [
    {
     "name": "stdout",
     "output_type": "stream",
     "text": [
      "'b' is greater than 'a'.\n"
     ]
    }
   ],
   "source": [
    "a = 74198\n",
    "b = 35146153\n",
    "if a == b:\n",
    "    print(\"'a' and 'b' are equal.\")\n",
    "elif a > b:\n",
    "    print(\"'a' is greater than 'b'.\")\n",
    "else:\n",
    "    print(\"'b' is greater than 'a'.\")"
   ]
  },
  {
   "cell_type": "code",
   "execution_count": 25,
   "metadata": {},
   "outputs": [
    {
     "name": "stdout",
     "output_type": "stream",
     "text": [
      "Yeah, I've still masterd decision making;P.\n"
     ]
    }
   ],
   "source": [
    "a = \"1\"\n",
    "b = \"1\"\n",
    "if a > b:\n",
    "    print(\"I've mastered decision making.\")\n",
    "elif a < b:\n",
    "    print(\"I've still mastered decision making!\")\n",
    "else:\n",
    "    print(\"Yeah, I've still masterd decision making;P.\")"
   ]
  },
  {
   "cell_type": "code",
   "execution_count": 51,
   "metadata": {
    "scrolled": true
   },
   "outputs": [
    {
     "name": "stdout",
     "output_type": "stream",
     "text": [
      "Beef stew\n",
      "Dumplings\n",
      "Scrambled Eggs\n",
      "Salad\n",
      "Wotons\n",
      "Cranberry\n",
      "Orange Chicken\n",
      "Fried Beans\n",
      "Hardboiled Eggs\n",
      "Hot Chocolate\n",
      "Apple Juice\n",
      "Strawberry Yogurt\n",
      "Breakfast\n",
      "Lunch\n",
      "Dinner\n"
     ]
    }
   ],
   "source": [
    "foods = [\"Beef stew\", \"Dumplings\", \"Scrambled Eggs\", \"Salad\"]\n",
    "nom_noms = {\"Hardboiled Eggs\", \"Wotons\", \"Fried Beans\", \"Orange Chicken\", \"Cranberry\"}\n",
    "drinks = (\"Hot Chocolate\", \"Apple Juice\", \"Strawberry Yogurt\")\n",
    "foodDict = {\n",
    "    \"Breakfast\":\"Cereal\",\n",
    "    \"Lunch\":\"Fried Rice\",\n",
    "    \"Dinner\":\"Soup\"\n",
    "}\n",
    "for food in foods:\n",
    "    print(food)\n",
    "for nom in nom_noms:\n",
    "    print(nom)\n",
    "for drink in drinks:\n",
    "    print(drink)\n",
    "for dict in foodDict:\n",
    "    print(dict)"
   ]
  },
  {
   "cell_type": "code",
   "execution_count": 12,
   "metadata": {
    "scrolled": true
   },
   "outputs": [
    {
     "name": "stdout",
     "output_type": "stream",
     "text": [
      "-10150990\n"
     ]
    }
   ],
   "source": [
    "sum = 0\n",
    "for x in range(1,200):\n",
    "    sum += x-38*1345\n",
    "print(sum)"
   ]
  },
  {
   "cell_type": "code",
   "execution_count": 1,
   "metadata": {},
   "outputs": [
    {
     "name": "stdout",
     "output_type": "stream",
     "text": [
      "1\n",
      "3\n",
      "9\n",
      "27\n",
      "81\n",
      "243\n",
      "729\n",
      "2187\n",
      "6561\n",
      "19683\n",
      "59049\n",
      "177147\n"
     ]
    }
   ],
   "source": [
    "sum = 1\n",
    "i = 0\n",
    "while i < 12:\n",
    "    print(sum)\n",
    "    sum *= 3\n",
    "    i += 1"
   ]
  },
  {
   "cell_type": "code",
   "execution_count": 4,
   "metadata": {},
   "outputs": [
    {
     "name": "stdout",
     "output_type": "stream",
     "text": [
      "12\n"
     ]
    }
   ],
   "source": [
    "def newFunction(c):\n",
    "    d = 0\n",
    "    for i in range(c):\n",
    "        c += 2\n",
    "    return c\n",
    "print(newFunction(4))"
   ]
  },
  {
   "cell_type": "code",
   "execution_count": null,
   "metadata": {},
   "outputs": [],
   "source": [
    "def reverseString():\n",
    "    word = \"Confused\"\n",
    "    \n",
    "reverseString()"
   ]
  },
  {
   "cell_type": "code",
   "execution_count": 1,
   "metadata": {},
   "outputs": [],
   "source": [
    "#Day 4 afternoon - Web Applications in Jupyter Notebooks.\n",
    "#we need to have to have trivia ready before widget.\n",
    "#"
   ]
  },
  {
   "cell_type": "markdown",
   "metadata": {},
   "source": [
    "# SpaceX Request"
   ]
  },
  {
   "cell_type": "code",
   "execution_count": 32,
   "metadata": {},
   "outputs": [
    {
     "name": "stdout",
     "output_type": "stream",
     "text": [
      "{'rocket_id': 'falcon9', 'rocket_name': 'Falcon 9', 'rocket_type': 'FT', 'first_stage': {'cores': [{'core_serial': 'B1056', 'flight': 2, 'block': 5, 'gridfins': True, 'legs': True, 'reused': True, 'land_success': True, 'landing_intent': True, 'landing_type': 'RTLS', 'landing_vehicle': 'LZ-1'}]}, 'second_stage': {'block': 5, 'payloads': [{'payload_id': 'CRS-18', 'norad_id': [44446], 'cap_serial': 'C108', 'reused': True, 'customers': ['NASA (CRS)'], 'nationality': 'United States', 'manufacturer': 'SpaceX', 'payload_type': 'Dragon 1.1', 'payload_mass_kg': 2227.7, 'payload_mass_lbs': 4911.2, 'orbit': 'ISS', 'orbit_params': {'reference_system': 'geocentric', 'regime': 'low-earth', 'longitude': None, 'semi_major_axis_km': None, 'eccentricity': None, 'periapsis_km': None, 'apoapsis_km': None, 'inclination_deg': None, 'period_min': None, 'lifespan_years': None, 'epoch': None, 'mean_motion': None, 'raan': None, 'arg_of_pericenter': None, 'mean_anomaly': None}, 'mass_returned_kg': None, 'mass_returned_lbs': None, 'flight_time_sec': None, 'cargo_manifest': 'https://www.nasa.gov/sites/default/files/atoms/files/spacex_crs-18_mision_overview_high_res.pdf'}]}, 'fairings': None}\n",
      "rocket_id\n",
      "rocket_name\n",
      "rocket_type\n",
      "first_stage\n",
      "second_stage\n",
      "fairings\n"
     ]
    }
   ],
   "source": [
    "import requests\n",
    "import json\n",
    "url = 'https://api.spacexdata.com/v3/launches/latest?pretty=true'\n",
    "request = requests.get(url)\n",
    "data = json.loads(request.content)\n",
    "rocket_data = data['rocket']\n",
    "print(rocket_data)\n",
    "for x in rocket_data:\n",
    "    print(x)"
   ]
  },
  {
   "cell_type": "code",
   "execution_count": null,
   "metadata": {},
   "outputs": [],
   "source": []
  }
 ],
 "metadata": {
  "kernelspec": {
   "display_name": "Python 3",
   "language": "python",
   "name": "python3"
  },
  "language_info": {
   "codemirror_mode": {
    "name": "ipython",
    "version": 3
   },
   "file_extension": ".py",
   "mimetype": "text/x-python",
   "name": "python",
   "nbconvert_exporter": "python",
   "pygments_lexer": "ipython3",
   "version": "3.7.3"
  }
 },
 "nbformat": 4,
 "nbformat_minor": 2
}
