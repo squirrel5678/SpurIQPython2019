{
 "cells": [
  {
   "cell_type": "markdown",
   "metadata": {},
   "source": [
    "# These are my Python Exercises"
   ]
  },
  {
   "cell_type": "code",
   "execution_count": 1,
   "metadata": {},
   "outputs": [
    {
     "name": "stdout",
     "output_type": "stream",
     "text": [
      "Hello World\n"
     ]
    }
   ],
   "source": [
    "print(\"Hello World\")"
   ]
  },
  {
   "cell_type": "code",
   "execution_count": 6,
   "metadata": {},
   "outputs": [
    {
     "name": "stdout",
     "output_type": "stream",
     "text": [
      "80\n",
      "80\n",
      "80\n",
      "80\n"
     ]
    }
   ],
   "source": [
    "x = 20\n",
    "y = 4\n",
    "print(x * y)\n",
    "d = 20\n",
    "s = 4\n",
    "d *= s\n",
    "print(d)\n",
    "print(20*4)\n",
    "w = 19\n",
    "e = 2\n",
    "print((w + 1)*(e + 2))"
   ]
  },
  {
   "cell_type": "code",
   "execution_count": 12,
   "metadata": {},
   "outputs": [
    {
     "name": "stdout",
     "output_type": "stream",
     "text": [
      "'b' is greater than 'a'.\n"
     ]
    }
   ],
   "source": [
    "a = 74198\n",
    "b = 35146153\n",
    "if a == b:\n",
    "    print(\"'a' and 'b' are equal.\")\n",
    "elif a > b:\n",
    "    print(\"'a' is greater than 'b'.\")\n",
    "else:\n",
    "    print(\"'b' is greater than 'a'.\")"
   ]
  },
  {
   "cell_type": "code",
   "execution_count": 25,
   "metadata": {},
   "outputs": [
    {
     "name": "stdout",
     "output_type": "stream",
     "text": [
      "Yeah, I've still masterd decision making;P.\n"
     ]
    }
   ],
   "source": [
    "a = \"1\"\n",
    "b = \"1\"\n",
    "if a > b:\n",
    "    print(\"I've mastered decision making.\")\n",
    "elif a < b:\n",
    "    print(\"I've still mastered decision making!\")\n",
    "else:\n",
    "    print(\"Yeah, I've still masterd decision making;P.\")"
   ]
  },
  {
   "cell_type": "code",
   "execution_count": 51,
   "metadata": {},
   "outputs": [
    {
     "name": "stdout",
     "output_type": "stream",
     "text": [
      "Beef stew\n",
      "Dumplings\n",
      "Scrambled Eggs\n",
      "Salad\n",
      "Wotons\n",
      "Cranberry\n",
      "Orange Chicken\n",
      "Fried Beans\n",
      "Hardboiled Eggs\n",
      "Hot Chocolate\n",
      "Apple Juice\n",
      "Strawberry Yogurt\n",
      "Breakfast\n",
      "Lunch\n",
      "Dinner\n"
     ]
    }
   ],
   "source": [
    "foods = [\"Beef stew\", \"Dumplings\", \"Scrambled Eggs\", \"Salad\"]\n",
    "nom_noms = {\"Hardboiled Eggs\", \"Wotons\", \"Fried Beans\", \"Orange Chicken\", \"Cranberry\"}\n",
    "drinks = (\"Hot Chocolate\", \"Apple Juice\", \"Strawberry Yogurt\")\n",
    "foodDict = {\n",
    "    \"Breakfast\":\"Cereal\",\n",
    "    \"Lunch\":\"Fried Rice\",\n",
    "    \"Dinner\":\"Soup\"\n",
    "}\n",
    "for food in foods:\n",
    "    print(food)\n",
    "for nom in nom_noms:\n",
    "    print(nom)\n",
    "for drink in drinks:\n",
    "    print(drink)\n",
    "for dict in foodDict:\n",
    "    print(dict)"
   ]
  },
  {
   "cell_type": "code",
   "execution_count": null,
   "metadata": {},
   "outputs": [],
   "source": []
  }
 ],
 "metadata": {
  "kernelspec": {
   "display_name": "Python 3",
   "language": "python",
   "name": "python3"
  },
  "language_info": {
   "codemirror_mode": {
    "name": "ipython",
    "version": 3
   },
   "file_extension": ".py",
   "mimetype": "text/x-python",
   "name": "python",
   "nbconvert_exporter": "python",
   "pygments_lexer": "ipython3",
   "version": "3.7.3"
  }
 },
 "nbformat": 4,
 "nbformat_minor": 2
}
