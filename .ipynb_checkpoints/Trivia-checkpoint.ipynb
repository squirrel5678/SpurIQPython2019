{
 "cells": [
  {
   "cell_type": "markdown",
   "metadata": {},
   "source": [
    "# TRIVIA"
   ]
  },
  {
   "cell_type": "markdown",
   "metadata": {},
   "source": [
    "# Database Setup"
   ]
  },
  {
   "cell_type": "code",
   "execution_count": 45,
   "metadata": {},
   "outputs": [],
   "source": [
    "import sqlite3\n",
    "import ipywidgets as widgets\n",
    "import random\n",
    "\n",
    "def create():\n",
    "    mydb = sqlite3.connect(\"mydatabase.db\")\n",
    "    mycursor = mydb.cursor()\n",
    "    mycursor.execute(\"CREATE TABLE Trivia (id INTEGER PRIMARY KEY, Questions VARCHAR(255), Answers VARCHAR(255), Category VARCHAR(255))\")\n",
    "    mydb.close()\n",
    "    \n",
    "def fill():\n",
    "    mydb = sqlite3.connect(\"mydatabase.db\")\n",
    "    mycursor = mydb.cursor()\n",
    "    sql = \"INSERT INTO Trivia (Questions, Answers, Category) VALUES (?, ?, ?)\"\n",
    "    val = [\n",
    "    ('How many countries are in Europe? ', '44, forty four, forty-four', 'geography'),\n",
    "    ('How many provences are in China? ', '22, twenty two, twenty-two', 'geography'),\n",
    "    ('What is the longest river in Asia? ', 'yangtze', 'geography'),\n",
    "    (\"What is the largest(in square miles)island that isn't Australia? \" , 'greenland', 'geography'),\n",
    "    ('Which is the largest of the Canary Islands? ', 'tenefife', 'geography'),\n",
    "    ('Where is Timbuktu? ', \"mali\", \"geography\"),\n",
    "    (\"Who wrote 'The Oddesy'? \", 'homer', 'literature'),\n",
    "    (\"In general, what is 'A tale of 2 cities'about? \", \"the french revolution\", 'literature'),\n",
    "    (\"Who wrote 'The Hunger Games'? \", \"suzanne collins\", 'literature'),\n",
    "    (\"What is the first book in 'The Secrets of the Immortal Nicholas Flamel'? \", 'the alcemest', 'literature'),\n",
    "    (\"Which path did Dorthy follow to find the Wizard of Oz? \", \"the yellow brick road\", 'literature'),\n",
    "    ('Who was the author of the shortest horror story?', \"fredric brown\", 'literature'),\n",
    "    ('What is the abreveation of the 31st state that joined the US? ', \"ca\", \"usa\"),\n",
    "    ('What is the largest state in the US? ', \"alaska\", \"usa\"),\n",
    "    ('What is the most deserted state in the US? ', \"wyoming\", \"usa\"),\n",
    "    ('What is the name of the capitol of Nevada? ', \"carson city, carson\", \"usa\"),\n",
    "    (\"How many states does the Mississippi River run through? \", \"10, ten\", \"usa\"),\n",
    "    (\"When did New York become a state? \", '7/26/1788', 'usa'),\n",
    "    ('Where is bratwurst from? ', 'germany', 'food'),\n",
    "    ('What is the official state fruit of New Hampshire? ', 'the pumpkin', 'food'),\n",
    "    ('In which country did tacos origanate? ', 'mexico', 'food'),\n",
    "    ('Mozarella cheese is made from the milk of which animal? ', 'buffalo', 'food'),\n",
    "    ('Which is the only edible food that never goes bad? ', 'honey', 'food'),\n",
    "    ('How is sodium chloride better known? ', 'salt', 'food'),\n",
    "     ]\n",
    "    mycursor.executemany(sql, val)\n",
    "    print(mycursor.rowcount)\n",
    "    mydb.commit()\n",
    "    mydb.close()\n",
    "    \n",
    "def getQuestions(category):\n",
    "    mydb = sqlite3.connect(\"mydatabase.db\")\n",
    "    mycursor = mydb.cursor()\n",
    "    sql = \"SELECT * FROM Trivia WHERE Category = ?\"\n",
    "    val = [category,]\n",
    "    mycursor.execute(sql,val)\n",
    "    results = mycursor.fetchall()\n",
    "    mydb.close()\n",
    "    return results\n",
    "    \n",
    "def delete():\n",
    "    mydb = sqlite3.connect(\"mydatabase.db\")\n",
    "    mycursor = mydb.cursor()\n",
    "    sql = \"DROP TABLE IF EXISTS Trivia\"\n",
    "    mycursor.execute(sql)\n",
    "    mydb.close()\n",
    "    \n",
    "def viewTable():\n",
    "    mydb = sqlite3.connect(\"mydatabase.db\")\n",
    "    mycursor = mydb.cursor()\n",
    "    sql = \"SELECT * FROM Trivia\"\n",
    "    mycursor.execute(sql)\n",
    "    tableData = mycursor.fetchall()\n",
    "    for x in tableData:\n",
    "      print(x)\n",
    "    mydb.commit()\n",
    "    mydb.close()\n",
    "\n"
   ]
  },
  {
   "cell_type": "markdown",
   "metadata": {},
   "source": [
    "# Code"
   ]
  },
  {
   "cell_type": "code",
   "execution_count": null,
   "metadata": {},
   "outputs": [
    {
     "name": "stdout",
     "output_type": "stream",
     "text": [
      "24\n"
     ]
    }
   ],
   "source": [
    "delete()\n",
    "create() \n",
    "fill()\n",
    "\n",
    "category = input(\"Do you want to be quizzed on geography, literature, food, or USA? \")\n",
    "sel_category = category.lower()\n",
    "print(\"\")\n",
    "print(\"Begining\", category, \"Trivia Game. Type quit to exit anytime...\")\n",
    "questions = getQuestions(sel_category)\n",
    "numQuestions = len(questions)\n",
    "score = 0\n",
    "while True:\n",
    "    if len(questions) == 0 and score > 3:\n",
    "        print(\"HOW DARE U BE BETTER DAN MOI SCORE MOI FIRST TIME I GOOT 3\")\n",
    "        print('U SCORE VAS', score, 'WWWAAAAHHHHHH')\n",
    "        break\n",
    "    elif len(questions) == 0 and score < 3:\n",
    "        print(\"HAHAHAHAHAHAHAHA U SO BAD LOL\")\n",
    "        print('UR SCORE WAS', score, \"AND IT VAS VERSE ZAN MOIN WHICH VAS 3\")\n",
    "        break\n",
    "    elif len(questions) == 0 and score == 5:\n",
    "        print(\"OMG WE GOT THE SAME NUMBER OF QUESTIONS RIGHT I GOT 5 SO DID U!!!!!\")\n",
    "    selected = random.choice(questions)\n",
    "    question = selected[1]\n",
    "    correct_answers = selected[2].split(\", \")\n",
    "    questions.remove(selected)\n",
    "    user_answer = input(question)\n",
    "    if user_answer.lower() == \"quit\":\n",
    "        print(\"Thanks for playing! I'm trying to be nice.\")\n",
    "        print(\"Your score was\", score)\n",
    "        break\n",
    "    elif user_answer.lower() in correct_answers:\n",
    "        print(\"You got it right!\")\n",
    "        score += 1\n",
    "        print(\"Your score:\", score)\n",
    "    else:\n",
    "        print(\"HAHAHAHAHAHAH U GOT INCORRECT I'M SO MEAN LOLOLOLOL U GOT NO POINTS *sticks out toungue*\")\n",
    "        print(\"Your score:\", score)\n",
    "    print(\"\")\n",
    "        "
   ]
  },
  {
   "cell_type": "raw",
   "metadata": {},
   "source": []
  },
  {
   "cell_type": "code",
   "execution_count": null,
   "metadata": {},
   "outputs": [],
   "source": []
  }
 ],
 "metadata": {
  "kernelspec": {
   "display_name": "Python 3",
   "language": "python",
   "name": "python3"
  },
  "language_info": {
   "codemirror_mode": {
    "name": "ipython",
    "version": 3
   },
   "file_extension": ".py",
   "mimetype": "text/x-python",
   "name": "python",
   "nbconvert_exporter": "python",
   "pygments_lexer": "ipython3",
   "version": "3.7.3"
  }
 },
 "nbformat": 4,
 "nbformat_minor": 2
}
