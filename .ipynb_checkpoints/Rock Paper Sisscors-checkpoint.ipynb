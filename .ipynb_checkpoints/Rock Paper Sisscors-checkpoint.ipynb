{
 "cells": [
  {
   "cell_type": "markdown",
   "metadata": {},
   "source": [
    "# RPS"
   ]
  },
  {
   "cell_type": "code",
   "execution_count": null,
   "metadata": {},
   "outputs": [],
   "source": [
    "import random\n",
    "\n",
    "#variables\n",
    "\n",
    "moves = [\"r\", \"p\", \"s\"]\n",
    "player_wins = [\"pr\", \"sp\", \"rs\"]\n",
    "score = 0\n",
    "compScore = 0\n",
    "\n",
    "#loop\n",
    "\n",
    "while True:\n",
    "    player_move = input(\"Your Move: \")\n",
    "    #quit\n",
    "    if player_move == \"q\":\n",
    "        if score>compScore:\n",
    "            print(\"NO THANKS 4 PLAYING U GOT\", score, \",I GOT\", compScore, \",AND IM SAD!!!\")\n",
    "            break\n",
    "        else:\n",
    "            print(\"OMG THX 4 PLAYING UR DA BEST U GOT\", score, \"I GOT\", compScore, \"AND I M SO MUCH BETTER DAN U *dabs*\")\n",
    "            break\n",
    "    \n",
    "    computer_move\n",
    "    move = random.choice(moves)\n",
    "\n",
    "    print(\"You: \", player_move)\n",
    "    print(\"Me: \", computer_move)\n",
    "\n",
    "    if player_move == computer_move:\n",
    "        print(\"*computer thinks: how did you know?!\")\n",
    "        \n",
    "    elif player_move + computer_move in player_wins:\n",
    "        print(\"UR SO MEAN HOW U WIN AGAINST ME\")\n",
    "        score += 1\n",
    "        \n",
    "    else:\n",
    "        print(\"JEEZ U LOST IM SUPER AWESOME LOL XD XD(but mabye cuz u didn't know what u were typing ;) )\")\n",
    "        compScore += 1"
   ]
  },
  {
   "cell_type": "code",
   "execution_count": null,
   "metadata": {},
   "outputs": [],
   "source": []
  }
 ],
 "metadata": {
  "kernelspec": {
   "display_name": "Python 3",
   "language": "python",
   "name": "python3"
  },
  "language_info": {
   "codemirror_mode": {
    "name": "ipython",
    "version": 3
   },
   "file_extension": ".py",
   "mimetype": "text/x-python",
   "name": "python",
   "nbconvert_exporter": "python",
   "pygments_lexer": "ipython3",
   "version": "3.7.3"
  }
 },
 "nbformat": 4,
 "nbformat_minor": 2
}
